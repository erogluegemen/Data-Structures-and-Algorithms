{
 "cells": [
  {
   "cell_type": "markdown",
   "id": "c5a34750-c931-4915-b6d3-7ff216e2a767",
   "metadata": {},
   "source": [
    "# Yığın Ağacı(Heap)\n",
    "Yığın veri yapısı, verilen herhangi bir düğümün bulunduğu yığın özelliğini karşılayan eksiksiz bir <b>ikili ağaçtır(binary heap).</b>\n",
    "\n",
    "- Her zaman alt düğümünden/düğümlerinden daha büyüktür ve kök düğümün anahtarı, diğer tüm düğümler arasında en büyüğüdür. Bu özelliğe max yığın ağacı özelliği de denir.\n",
    "\n",
    "- Her zaman alt düğümden/düğümlerden daha küçüktür ve kök düğümün anahtarı diğer tüm düğümler arasında en küçüğüdür. Bu özelliğe min yığın ağacı özelliği de denir.\n",
    "\n",
    "### Yığın Ağacı İşlemleri\n",
    "#### Heapify:\n",
    "- Heapify, ikili bir ağaçtan bir yığın veri yapısı oluşturma işlemidir. Min-Heap veya Max-Heap oluşturmak için kullanılır.\n",
    "\n",
    "1. Input dizi oluşturulur: [3,9,2,1,4,5]\n",
    "2. Diziden tam bir ikili ağaç oluşturulur.\n",
    "3. Dizini (n/2) - 1 ile verilen, yaprak olmayan düğümün ilk dizininden başlanır.\n",
    "4. Mevcut öğe olan i'yi en büyük olarak ayarlayın.\n",
    "5. Soldaki çocuk indeksi 2i+1, sağdaki çocuk indeksi ise 2i+2 ile verilir. solCocuk, güncelOge öğesinden büyükse (yani, i'inci dizinindeki öğe), solCocukIndex öğesini en büyük olarak ayarlanır. sagCocuk, en büyük öğeden büyükse, sagCocukIndex'i en büyük olarak ayarlanır.\n",
    "6. En büyük öğe, güncel öğe ile değiştirilir.\n",
    "- (Alt ağaçlar da yığılana kadar 3-7 arasındaki adımlar tekrarlanır.)"
   ]
  },
  {
   "cell_type": "markdown",
   "id": "1c129f73-7b6d-45fc-939f-16651d0b7632",
   "metadata": {},
   "source": [
    "### Algoritma\n",
    "<b>\n",
    "Heapify(array, size, i)<br>\n",
    "</b>\n",
    "    \n",
    "  &nbsp;&nbsp; set i as largest<br>\n",
    "  &nbsp;&nbsp; leftChild = 2i + 1<br>\n",
    "  &nbsp;&nbsp; rightChild = 2i + 2\n",
    "  \n",
    "  &nbsp;&nbsp; if leftChild > array[largest]<br>\n",
    "    &nbsp;&nbsp;&nbsp;&nbsp; set leftChildIndex as largest<br>\n",
    "  &nbsp;&nbsp; if rightChild > array[largest]<br>\n",
    "    &nbsp;&nbsp;&nbsp;&nbsp; set rightChildIndex as largest<br>\n",
    "\n",
    "  &nbsp;&nbsp; swap array[i] and array[largest]"
   ]
  },
  {
   "cell_type": "markdown",
   "id": "dcde3596-a6e1-41fc-9b49-ef8d3c50d7ce",
   "metadata": {},
   "source": [
    "### Max Heap Algoritması\n",
    "\n",
    "<b>MaxHeap(array, size)</b><br>\n",
    "  &nbsp;&nbsp;loop from the first index of non-leaf node down to zero</b><br>\n",
    "    &nbsp;&nbsp;&nbsp;&nbsp;call heapify<br>\n",
    "    \n",
    "- Min-Heap için, hem solCocuk hem de sagCocuk, tüm düğümler için üst öğeden daha büyük olmalıdır."
   ]
  },
  {
   "cell_type": "markdown",
   "id": "98f5abde-d029-4063-8798-b81a2c4dc860",
   "metadata": {},
   "source": [
    "### Yığın Ağacına Öğe Eklemek\n",
    "If there is no node,<br> \n",
    "  &nbsp;&nbsp;&nbsp;&nbsp;create a newNode.<br>\n",
    "else (a node is already present)<br>\n",
    "  &nbsp;&nbsp;&nbsp;&nbsp;insert the newNode at the end (last node from left to right.)<br>\n",
    "  <br>\n",
    "heapify the array<br>"
   ]
  },
  {
   "cell_type": "markdown",
   "id": "7bd6e139-a39e-45d7-a0ed-c38083391262",
   "metadata": {},
   "source": [
    "### Yığın Ağacından Öğe Silmek\n",
    "\n",
    "If nodeToBeDeleted is the leafNode<br>\n",
    "  &nbsp;&nbsp;&nbsp;&nbsp;remove the node<br>\n",
    "Else swap nodeToBeDeleted with the lastLeafNode<br>\n",
    "  &nbsp;&nbsp;&nbsp;&nbsp;remove noteToBeDeleted<br>\n",
    "   <br>\n",
    "heapify the array<br>"
   ]
  },
  {
   "cell_type": "markdown",
   "id": "8c567593-f485-45c9-a701-8f2230bffd7e",
   "metadata": {},
   "source": [
    "### Yığındaki Max-Min Değerleri Bulmak(Peek)\n",
    "\n",
    "<i>return rootNode </i>\n",
    "\n",
    "- Peek işlemi, düğümü silmeden Maks Yığından maksimum öğeyi veya Min Yığından minimum öğeyi döndürür.<br>\n",
    "- Hem Maksimum yığın hem de Min Yığın için aynı çalışır.\n",
    "\n",
    "### Extract-Max/Min\n",
    "- Max-Deger-Cıkarma, düğümü bir Maks Yığından çıkardıktan sonra maksimum değerde döndürürken,<br>\n",
    "- Min-Deger-Cıkarma, düğümü Min Yığından çıkardıktan sonra minimum değerde döndürür.\n"
   ]
  },
  {
   "cell_type": "code",
   "execution_count": 5,
   "id": "8dd3c370-72e0-41ff-a75b-e1b5eef19eed",
   "metadata": {},
   "outputs": [
    {
     "name": "stdout",
     "output_type": "stream",
     "text": [
      "Max-Yığın Dizisi:  [9, 5, 4, 3, 2]\n",
      "Öğe Silindikten Sonra:  [9, 5, 2, 3]\n"
     ]
    }
   ],
   "source": [
    "### Pythonda Yığın İşlemi ###\n",
    "\n",
    "def heapify(arr, n, i):  # Yığının oluşturulması\n",
    "    largest = i\n",
    "    l = 2 * i + 1\n",
    "    r = 2 * i + 2 \n",
    "    \n",
    "    if l < n and arr[i] < arr[l]:\n",
    "        largest = l\n",
    "    \n",
    "    if r < n and arr[largest] < arr[r]:\n",
    "        largest = r\n",
    "    \n",
    "    if largest != i:\n",
    "        arr[i],arr[largest] = arr[largest],arr[i]\n",
    "        heapify(arr, n, largest)\n",
    "\n",
    "def insert(array, newNum):  # Yığına eleman eklenmesi\n",
    "    size = len(array)\n",
    "    if size == 0:\n",
    "        array.append(newNum)\n",
    "    else:\n",
    "        array.append(newNum);\n",
    "        for i in range((size//2)-1, -1, -1):\n",
    "            heapify(array, size, i)\n",
    "\n",
    "def deleteNode(array, num):  # Yığından öğe çıkarılması\n",
    "    size = len(array)\n",
    "    i = 0\n",
    "    for i in range(0, size):\n",
    "        if num == array[i]:\n",
    "            break\n",
    "        \n",
    "    array[i], array[size-1] = array[size-1], array[i]\n",
    "\n",
    "    array.remove(num)\n",
    "    \n",
    "    for i in range((len(array)//2)-1, -1, -1):\n",
    "        heapify(array, len(array), i)\n",
    "    \n",
    "arr = []\n",
    "\n",
    "insert(arr, 3)\n",
    "insert(arr, 4)\n",
    "insert(arr, 9)\n",
    "insert(arr, 5)\n",
    "insert(arr, 2)\n",
    "\n",
    "print (\"Max-Yığın Dizisi: \" , arr)\n",
    "\n",
    "deleteNode(arr, 4)\n",
    "print(\"Öğe Silindikten Sonra: \" , arr)"
   ]
  }
 ],
 "metadata": {
  "kernelspec": {
   "display_name": "Python [conda env:env]",
   "language": "python",
   "name": "conda-env-env-py"
  },
  "language_info": {
   "codemirror_mode": {
    "name": "ipython",
    "version": 3
   },
   "file_extension": ".py",
   "mimetype": "text/x-python",
   "name": "python",
   "nbconvert_exporter": "python",
   "pygments_lexer": "ipython3",
   "version": "3.8.13"
  }
 },
 "nbformat": 4,
 "nbformat_minor": 5
}
