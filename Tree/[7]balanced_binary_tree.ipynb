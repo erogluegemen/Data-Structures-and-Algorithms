{
 "cells": [
  {
   "cell_type": "markdown",
   "id": "6229f82f-1d09-4b51-93f9-5b24f722114c",
   "metadata": {},
   "source": [
    "# Dengeli İkili Ağaç\n",
    "- Yükseklik dengeli ikili ağaç olarak da adlandırılan dengeli bir ikili ağaç,<br>\n",
    "  herhangi bir düğümün sol ve sağ alt ağacının yüksekliğinin 1'den fazla olmadığı bir ikili ağaç olarak tanımlanır.\n",
    "  \n",
    "- Yüksekliği dengeli bir ikili ağaç için koşullar aşağıda verilmiştir:\n",
    "    1. Herhangi bir düğüm için sol ve sağ alt ağaç arasındaki fark birden fazla değil.\n",
    "    2. Sol alt ağaç dengeli.\n",
    "    3. Sağ alt ağaç dengeli."
   ]
  },
  {
   "cell_type": "code",
   "execution_count": 3,
   "id": "8ff0d2b1-f456-4976-9ab2-3c8866b60a54",
   "metadata": {},
   "outputs": [
    {
     "name": "stdout",
     "output_type": "stream",
     "text": [
      "Ağaç: Dengede\n"
     ]
    }
   ],
   "source": [
    "### Pythonda Dengeli İkili Ağaç İşlemi ###\n",
    "\n",
    "class Node:\n",
    "\n",
    "    def __init__(self, data):  # Düğümün değerleri tanımlanır.\n",
    "        self.data = data\n",
    "        self.left = self.right = None\n",
    "\n",
    "\n",
    "class Height:  # Yükseklik değerlerinin tanımlanır.\n",
    "    def __init__(self):\n",
    "        self.height = 0\n",
    "\n",
    "\n",
    "def isHeightBalanced(root, height):  # Yüksekliğin dengede olup olmadığı kontrol edilir.\n",
    "\n",
    "    left_height = Height()\n",
    "    right_height = Height()\n",
    "\n",
    "    if root is None:\n",
    "        return True\n",
    "\n",
    "    l = isHeightBalanced(root.left, left_height)\n",
    "    r = isHeightBalanced(root.right, right_height)\n",
    "\n",
    "    height.height = max(left_height.height, right_height.height) + 1\n",
    "\n",
    "    if abs(left_height.height - right_height.height) <= 1:  # Yukarıdaki 1. koşulu sağlıyor mu diye kontrol ediyoruz.\n",
    "        return l and r                                      # Mutlak fark olarak uzaklık 1'den az ya da eşit mi diye.\n",
    "\n",
    "    return False\n",
    "\n",
    "\n",
    "height = Height()\n",
    "\n",
    "root = Node(1)\n",
    "root.left = Node(2)\n",
    "root.right = Node(3)\n",
    "root.left.left = Node(4)\n",
    "root.left.right = Node(5)\n",
    "\n",
    "if isHeightBalanced(root, height):\n",
    "    print('Ağaç: Dengede')\n",
    "else:\n",
    "    print('Ağaç: Dengede değil.')\n"
   ]
  }
 ],
 "metadata": {
  "kernelspec": {
   "display_name": "Python [conda env:datascience] *",
   "language": "python",
   "name": "conda-env-datascience-py"
  },
  "language_info": {
   "codemirror_mode": {
    "name": "ipython",
    "version": 3
   },
   "file_extension": ".py",
   "mimetype": "text/x-python",
   "name": "python",
   "nbconvert_exporter": "python",
   "pygments_lexer": "ipython3",
   "version": "3.8.13"
  }
 },
 "nbformat": 4,
 "nbformat_minor": 5
}
