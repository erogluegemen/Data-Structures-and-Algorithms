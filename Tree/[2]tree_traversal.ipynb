{
 "cells": [
  {
   "cell_type": "markdown",
   "id": "f6661ade-033f-4928-9fb2-e5b0a9e3769d",
   "metadata": {},
   "source": [
    "# Ağaç Geçişi\n",
    "- Bir ağacı geçmek, ağaçtaki her düğümü ziyaret etmek anlamına gelir. <br>Örneğin, ağaçtaki tüm değerleri toplamak veya en büyüğünü bulmak isteyebilirsiniz. <br>Tüm bu işlemler için ağacın her bir düğümünü ziyaret etmeniz gerekecektir.\n",
    "\n",
    "- Diziler, yığınlar, kuyruklar ve bağlantılı liste gibi doğrusal veri yapılarının verileri okumanın yalnızca bir yolu vardır. <br>Ancak bir ağaç gibi hiyerarşik bir veri yapısı farklı şekillerde geçilebilir.\n",
    "\n",
    "### Sıralı Geçiş:\n",
    "1. Öncelikle, sol alt ağaçtaki bütün düğümleri gez.\n",
    "2. Sonra ana düğüme git.\n",
    "3. Sağ alt ağaçtaki bütün düğümleri gez.\n",
    "\n",
    "### Ön Sıralı Geçiş:\n",
    "1. Ana düğüme git.\n",
    "2. Sol alt ağaçtaki bütün düğümleri gez.\n",
    "3. Sağ alt ağaçtaki bütün düğümleri gez.\n",
    "\n",
    "### Arka Sıralı Geçiş:\n",
    "1. Sol alt ağaçtaki bütün düğümleri gez.\n",
    "2. Sağ alt ağaçtaki bütün düğümleri gez.\n",
    "3. Ana düğüme git."
   ]
  },
  {
   "cell_type": "code",
   "execution_count": 12,
   "id": "58198bc8-c339-4b93-983b-532903cad72f",
   "metadata": {},
   "outputs": [
    {
     "name": "stdout",
     "output_type": "stream",
     "text": [
      "4->2->5->1->3->Sıralı Geçiş:  None\n",
      "\n",
      "____________________\n",
      "\n",
      "Ön Sıralı Geçiş: \n",
      "1->2->4->5->3->\n",
      "____________________\n",
      "\n",
      "Arka Sıralı Geçiş:  \n",
      "4->5->2->3->1->"
     ]
    }
   ],
   "source": [
    "### Pythonda Ağaç Geçiş İşlemi ###\n",
    "\n",
    "class Node:\n",
    "    def __init__(self, item):  # Ağacın değerleri tanımlanır.\n",
    "        self.left = None\n",
    "        self.right = None\n",
    "        self.val = item\n",
    "\n",
    "\n",
    "def inorder(root):  # Sıralı geçiş fonksiyonu tanımlanır.\n",
    "\n",
    "    if root:\n",
    "        # Traverse left\n",
    "        inorder(root.left)\n",
    "        # Traverse root\n",
    "        print(str(root.val) + \"->\", end='')\n",
    "        # Traverse right\n",
    "        inorder(root.right)\n",
    "\n",
    "\n",
    "def postorder(root): # Arka sıralı geçiş fonksiyonu tanımlanır.\n",
    "\n",
    "    if root:\n",
    "        # Traverse left\n",
    "        postorder(root.left)\n",
    "        # Traverse right\n",
    "        postorder(root.right)\n",
    "        # Traverse root\n",
    "        print(str(root.val) + \"->\", end='')\n",
    "\n",
    "\n",
    "def preorder(root): # Ön sıralı geçiş fonksiyonu tanımlanır.\n",
    "\n",
    "    if root:\n",
    "        # Traverse root\n",
    "        print(str(root.val) + \"->\", end='')\n",
    "        # Traverse left\n",
    "        preorder(root.left)\n",
    "        # Traverse right\n",
    "        preorder(root.right)\n",
    "\n",
    "\n",
    "root = Node(1)\n",
    "root.left = Node(2)\n",
    "root.right = Node(3)\n",
    "root.left.left = Node(4)\n",
    "root.left.right = Node(5)\n",
    "\n",
    "print(\"Sıralı Geçiş: \")\n",
    "inorder(root)\n",
    "print(\"\\n____________________\")\n",
    "print(\"\\nÖn Sıralı Geçiş: \")\n",
    "preorder(root)\n",
    "print(\"\\n____________________\")\n",
    "print(\"\\nArka Sıralı Geçiş:  \")\n",
    "postorder(root)"
   ]
  }
 ],
 "metadata": {
  "kernelspec": {
   "display_name": "Python [conda env:datascience] *",
   "language": "python",
   "name": "conda-env-datascience-py"
  },
  "language_info": {
   "codemirror_mode": {
    "name": "ipython",
    "version": 3
   },
   "file_extension": ".py",
   "mimetype": "text/x-python",
   "name": "python",
   "nbconvert_exporter": "python",
   "pygments_lexer": "ipython3",
   "version": "3.8.13"
  }
 },
 "nbformat": 4,
 "nbformat_minor": 5
}
