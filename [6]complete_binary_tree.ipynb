{
 "cells": [
  {
   "cell_type": "markdown",
   "id": "545eee20-948b-4901-8306-c3be2da2c2b8",
   "metadata": {},
   "source": [
    "# Komple İkili Ağaç\n",
    "- Komple ikili ağaç, muhtemelen soldan doldurulan en düşük seviye hariç tüm seviyelerin tamamen doldurulduğu bir ikili ağaçtır.\n",
    "- Komple ikili ağaç, tam bir ikili ağaç gibidir, ancak iki büyük farkı vardır.\n",
    "    1. Tüm yaprak elemanları sola doğru eğilmelidir.\n",
    "    2. Son yaprak elemanının bir doğru kardeşi olmayabilir, yani komple ikili ağacın tam bir ikili ağaç olması gerekmez.\n",
    "    \n",
    "### Komple İkili Ağaç Nasıl Oluşturulur?\n",
    "1. Kök düğüm olacak listenin ilk öğesini seçin. (seviye-1'deki eleman sayısı: 1)\n",
    "2. İkinci öğeyi kök düğümün sol çocuğu ve üçüncü öğeyi sağ alt öğe olarak koyun. (seviye 2'deki eleman sayısı: 2)\n",
    "3. Sonraki iki öğeyi ikinci düzeyin sol düğümünün çocukları olarak koyun.<br>\n",
    "   Yine, sonraki iki öğeyi ikinci düzeyin sağ düğümünün çocukları olarak koyun (düzey-3'deki öğe sayısı: 4) öğeleri).\n",
    "4. Son elemana ulaşana kadar tekrar edin."
   ]
  },
  {
   "cell_type": "code",
   "execution_count": 3,
   "id": "de5bbba4-9ad1-43c2-bb0e-cbd6750b0fa9",
   "metadata": {},
   "outputs": [
    {
     "name": "stdout",
     "output_type": "stream",
     "text": [
      "Ağaç: Komple İkili Ağaç.\n"
     ]
    }
   ],
   "source": [
    "### Pythonda Komple İkili Ağaç İşlemi ###\n",
    "\n",
    "class Node:\n",
    "\n",
    "    def __init__(self, item):  # Düğümün değerleri tanımlanır.\n",
    "        self.item = item\n",
    "        self.left = None\n",
    "        self.right = None\n",
    "\n",
    "\n",
    "def count_nodes(root):  # Düğüm sayısı sayılır.\n",
    "    if root is None:\n",
    "        return 0\n",
    "    return (1 + count_nodes(root.left) + count_nodes(root.right))\n",
    "\n",
    "\n",
    "def is_complete(root, index, numberNodes):  # Komple İkili Ağaç mı diye kontrol edilir.\n",
    "\n",
    "    # Ağaç boş mu diye kontrol edilir.\n",
    "    if root is None:\n",
    "        return True\n",
    "\n",
    "    if index >= numberNodes:\n",
    "        return False\n",
    "\n",
    "    return (is_complete(root.left, 2 * index + 1, numberNodes)\n",
    "            and is_complete(root.right, 2 * index + 2, numberNodes))\n",
    "\n",
    "\n",
    "root = Node(1)\n",
    "root.left = Node(2)\n",
    "root.right = Node(3)\n",
    "root.left.left = Node(4)\n",
    "root.left.right = Node(5)\n",
    "root.right.left = Node(6)\n",
    "\n",
    "node_count = count_nodes(root)\n",
    "index = 0\n",
    "\n",
    "if is_complete(root, index, node_count):\n",
    "    print(\"Ağaç: Komple İkili Ağaç.\")\n",
    "else:\n",
    "    print(\"Ağaç: Komple İkili Ağaç Değil.\")\n"
   ]
  }
 ],
 "metadata": {
  "kernelspec": {
   "display_name": "Python [conda env:datascience] *",
   "language": "python",
   "name": "conda-env-datascience-py"
  },
  "language_info": {
   "codemirror_mode": {
    "name": "ipython",
    "version": 3
   },
   "file_extension": ".py",
   "mimetype": "text/x-python",
   "name": "python",
   "nbconvert_exporter": "python",
   "pygments_lexer": "ipython3",
   "version": "3.8.13"
  }
 },
 "nbformat": 4,
 "nbformat_minor": 5
}
