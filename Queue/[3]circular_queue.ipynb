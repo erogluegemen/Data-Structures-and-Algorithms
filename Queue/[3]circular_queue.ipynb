{
 "cells": [
  {
   "cell_type": "markdown",
   "id": "b91f5e77-ca8f-400c-b642-1ace220ae5d0",
   "metadata": {},
   "source": [
    "# Dairesel Kuyruk\n",
    "- <b>Dairesel kuyruk</b>, son öğenin ilk öğeye bağlandığı normal bir sıranın genişletilmiş versiyonudur. Böylece daire benzeri bir yapı oluşturur."
   ]
  },
  {
   "cell_type": "markdown",
   "id": "837798cd-df0e-494d-8eed-c253e770c163",
   "metadata": {},
   "source": [
    "- Basit kuyrukta, bir kaç ekleme ve çıkarma işleminden sonra kullanılamayan boş alanlar olacaktır.<b> Dairesel kuyruk</b> bu sorunu çözmeyi amaçlar."
   ]
  },
  {
   "attachments": {
    "51e68aed-15c9-4ec6-be93-a7b7e850644c.jpg": {
     "image/jpeg": "[encoded data removed]"
    }
   },
   "cell_type": "markdown",
   "id": "fa37bc0d-06d0-4974-9525-e0f022369b2f",
   "metadata": {},
   "source": [
    "![](attachment:51e68aed-15c9-4ec6-be93-a7b7e850644c.jpg)"
   ]
  },
  {
   "cell_type": "markdown",
   "id": "90f49c7f-47a4-46d5-805e-5c074bce4930",
   "metadata": {},
   "source": [
    "### Burada 0 ve 1 indeksleri yalnızca kuyruk sıfırlandıktan sonra kullanılabilir(tüm öğeler silindikten sonra)."
   ]
  },
  {
   "cell_type": "markdown",
   "id": "fe5aa83f-413a-455e-98db-36aec1a5dee6",
   "metadata": {},
   "source": [
    "### Dairesel Kuyruğun Çalışma Prensibi:\n",
    "Dairesel Kuyrukların çalışma prensibini 3 bölüme ayırabiliriz.\n",
    "\n",
    "<b>A.) Ana Bölüm:</b>\n",
    "1. FRONT ve REAR diye 2 değişken kullanılır.\n",
    "2. FRONT ilk öğeyi takip etmeyi sağlar.\n",
    "3. REAR son öğeyi takip etmeyi sağlar.\n",
    "4. FRONT ve REAR değişkenleri ilk tanımlanırken -1 olarak tanımlanır. \n",
    "\n",
    "<b>B.) Enqueue Bölümü:</b>\n",
    "1. Kuyruk dolu mu diye kontrol edilir.\n",
    "2. İlk öğe için FRONT değişkeni 0 olarak ayarlanır.\n",
    "3. REAR indeksini dairesel olarak 1 arttırılır.(Yani REAR sona ulaşırsa, sonraki sıranın FRONT'u olur.)\n",
    "4. Yeni öğe REAR ile gösterilen konuma eklenir.\n",
    "\n",
    "<b>C.) Dequeue Bölümü:</b>\n",
    "1. Kuyruk boş mu diye kontrol edilir.\n",
    "2. FRONT ile gösterilen değer döndürülür.\n",
    "3. FRONT indexi dairesel olarak 1 arttırılır.\n",
    "4. Son öğe için FRONT ve REAR değişkenlerini -1 olarak sıfırlanılır.\n",
    "\n",
    "Ancak, tam kuyruk denetiminin yeni bir ek durumu vardır:\n",
    "- DURUM 1: FRONT = 0 and REAR = SIZE - 1\n",
    "- DURUM 2: FRONT = REAR + 1\n",
    "\n",
    "<b>(İkinci durum, dairesel artış nedeniyle REAR, 0'dan başladığında ve değeri FRONT'tan sadece 1 daha az olduğunda, sıra doludur.)</b>"
   ]
  },
  {
   "cell_type": "code",
   "execution_count": 18,
   "id": "ece12f17-1188-44f5-8cd7-ab8fa4b6d3ef",
   "metadata": {},
   "outputs": [
    {
     "name": "stdout",
     "output_type": "stream",
     "text": [
      "İlk Kuyruk: \n",
      "1 2 3 4 5 \n",
      "Öğeyi Çıkardıktan Sonra Kuyruk: \n",
      "2 3 4 5 \n"
     ]
    }
   ],
   "source": [
    "### Pythonda Dairesel Kuyruk İşlemi ###\n",
    "\n",
    "class CircularQueue():\n",
    "\n",
    "    def __init__(self, k):  # Adım 1: Kuyruk oluşturmak.\n",
    "        self.k = k\n",
    "        self.queue = [None] * k\n",
    "        self.head = self.tail = -1  # FRONT ve REAR değişkenleri -1 olarak tanımlamak.\n",
    "\n",
    "    def enqueue(self, item):  # Adım 2: Dairesel kuyruğa öğe eklemek.                    \n",
    "\n",
    "        if ((self.tail + 1) % self.k == self.head):  # Kuyruğun doluluğu kontrol edilir.\n",
    "            print(\"Dairesel kuyruk dolu!\\n\")\n",
    "\n",
    "        elif (self.head == -1):\n",
    "            self.head = 0\n",
    "            self.tail = 0\n",
    "            self.queue[self.tail] = item\n",
    "        else:\n",
    "            self.tail = (self.tail + 1) % self.k  # \n",
    "            self.queue[self.tail] = item\n",
    "\n",
    "    \n",
    "    def dequeue(self):  # Adım 3: Dairesel kuyruktan öğe silmek.\n",
    "        if (self.head == -1):  # Kuyruğun boş olup olmadığı kontrol edilir.\n",
    "            print(\"Dairesel kuyruk boş!\\n\")\n",
    "\n",
    "        elif (self.head == self.tail):\n",
    "            temp = self.queue[self.head]\n",
    "            self.head = -1\n",
    "            self.tail = -1\n",
    "            return temp\n",
    "        else:\n",
    "            temp = self.queue[self.head]\n",
    "            self.head = (self.head + 1) % self.k\n",
    "            return temp\n",
    "\n",
    "    def printCQueue(self):  # Adım 4: Dairesel kuyruğu ekrana yazdırmak.\n",
    "        if(self.head == -1):\n",
    "            print(\"Dairesel kuyrukta eleman yok!\")\n",
    "\n",
    "        elif (self.tail >= self.head):\n",
    "            for i in range(self.head, self.tail + 1):\n",
    "                print(self.queue[i], end=\" \")\n",
    "            print()\n",
    "        else:\n",
    "            for i in range(self.head, self.k):\n",
    "                print(self.queue[i], end=\" \")\n",
    "            for i in range(0, self.tail + 1):\n",
    "                print(self.queue[i], end=\" \")\n",
    "            print()\n",
    "\n",
    "\n",
    "cq = CircularQueue(5)\n",
    "# Ekleme.\n",
    "cq.enqueue(1)\n",
    "cq.enqueue(2)\n",
    "cq.enqueue(3)\n",
    "cq.enqueue(4)\n",
    "cq.enqueue(5)\n",
    "print(\"İlk Kuyruk: \")\n",
    "cq.printCQueue()\n",
    "\n",
    "# Çıkarma.\n",
    "cq.dequeue()\n",
    "print(\"Öğeyi Çıkardıktan Sonra Kuyruk: \")\n",
    "cq.printCQueue()"
   ]
  }
 ],
 "metadata": {
  "kernelspec": {
   "display_name": "Python [conda env:datascience] *",
   "language": "python",
   "name": "conda-env-datascience-py"
  },
  "language_info": {
   "codemirror_mode": {
    "name": "ipython",
    "version": 3
   },
   "file_extension": ".py",
   "mimetype": "text/x-python",
   "name": "python",
   "nbconvert_exporter": "python",
   "pygments_lexer": "ipython3",
   "version": "3.8.13"
  }
 },
 "nbformat": 4,
 "nbformat_minor": 5
}
