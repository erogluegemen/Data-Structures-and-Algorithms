{
 "cells": [
  {
   "cell_type": "markdown",
   "id": "81283290-fe34-444e-a103-b1725f7fad33",
   "metadata": {},
   "source": [
    "# Queue (Kuyruk)\n",
    "### Anahtar Kelimeler:\n",
    "- <b>Queue:</b> Kuyruk.\n",
    "- <b>FIFO(<i>First in First out</i>):</b> İlk giren ilk çıkar.\n",
    "- <b>Enqueue:</b> Kuyruğa öğe eklemek.\n",
    "- <b>Dequeue:</b> Kuyruktan öğe çıkarmak.\n",
    "- <b>FRONT:</b> Kuyrukta en öndeki öğeye denir.\n",
    "- <b>REAR:</b> Kuyrukta en arkadaki öğeye denir. \n",
    "\n",
    "### Tanımı:\n",
    "- Kuyruk, programlamada yararlı bir veri yapısıdır.\n",
    "\n",
    "### Örnek:\n",
    "- Bilet kuyruğuna benzetilebilir. Sıraya ilk giren kişi bileti ilk alan kişidir.\n",
    "\n",
    "### Kuyruk Üzerindeki Temel İşlemler:\n",
    "- <b>Enqueue:</b> Kuyruğa öğe eklemek.\n",
    "- <b>Dequeue:</b> Kuyruktan öğe çıkarmak.\n",
    "- <b>IsEmpty:</b> Kuyruğun boş olup olmadığını kontrol eder.\n",
    "- <b>IsFull:</b> Kuyruğun dolu olup olmadığını kontrol eder.\n",
    "- <b>Peek:</b> Bir kuyrukta en öndeki öğenin değerini, o öğeyi çıkarmadan almayı sağlar."
   ]
  },
  {
   "cell_type": "markdown",
   "id": "11b622dc-6b93-41c3-a89e-8d2a57bf0d6e",
   "metadata": {
    "tags": []
   },
   "source": [
    "### Kuyruğun Çalışma Prensibi:\n",
    "Kuyrukların çalışma prensibini 3 bölüme ayırabiliriz.\n",
    "\n",
    "<b>A.) Ana Bölüm:</b>\n",
    "1. FRONT ve REAR diye 2 değişken kullanılır.\n",
    "2. FRONT ilk öğeyi takip etmeyi sağlar.\n",
    "3. REAR son öğeyi takip etmeyi sağlar.\n",
    "4. FRONT ve REAR değişkenleri ilk tanımlanırken -1 olarak tanımlanır. \n",
    "\n",
    "<b>B.) Enqueue Bölümü:</b>\n",
    "1. Kuyruk dolu mu diye kontrol edilir.\n",
    "2. İlk öğe için FRONT değişkeni 0 olarak ayarlanır.\n",
    "3. Son öğe için REAR değişkeni 1 arttırılır.\n",
    "4. Yeni öğe REAR ile gösterilen konuma eklenir.\n",
    "\n",
    "<b>C.) Dequeue Bölümü:</b>\n",
    "1. Kuyruk boş mu diye kontrol edilir.\n",
    "2. FRONT ile gösterilen değer döndürülür.\n",
    "3. FRONT indexi 1 arttırılır.\n",
    "4. Son öğe için FRONT ve REAR değişkenlerini -1 olarak sıfırlanılır."
   ]
  },
  {
   "cell_type": "code",
   "execution_count": 26,
   "id": "edd98d98-d8d1-4513-adb6-a9f14efe6f85",
   "metadata": {},
   "outputs": [
    {
     "name": "stdout",
     "output_type": "stream",
     "text": [
      "Kuyruk oluşturuldu.\n",
      "İlk Kuyruk:  [1, 2, 3]\n",
      "Öğeyi Çıkardıktan Sonra Kuyruk:  [2, 3]\n",
      "Kuyruktaki Güncel Öğe Sayısı:  2\n"
     ]
    }
   ],
   "source": [
    "### Pythonda Kuyruk İşlemi ###\n",
    "\n",
    "# Adım 1: Kuyruk oluşturmak\n",
    "def create_queue():\n",
    "    queue = []\n",
    "    print('Kuyruk oluşturuldu.')\n",
    "    return queue\n",
    "\n",
    "\n",
    "# Adım 2: Kuyruğa öğe eklemek\n",
    "def enqueue(queue, item):\n",
    "    queue.append(item)\n",
    "\n",
    "\n",
    "# Adım 3: Kuyruktan öğe çıkarmak\n",
    "def dequeue(queue, item):\n",
    "    if len(queue) < 1:\n",
    "        return None\n",
    "    \n",
    "    else:\n",
    "        return queue.pop(0)\n",
    "\n",
    "\n",
    "queue = create_queue()  # Kuyruğun oluşturulması.\n",
    "enqueue(queue, 1)       # Kuyruğa öğelerin eklenmesi.\n",
    "enqueue(queue, 2)\n",
    "enqueue(queue, 3)\n",
    "\n",
    "print('İlk Kuyruk: ', queue)            # Kuyruktan öğe çıkarılmadan önceki son hali.\n",
    "dequeue(queue, 1)                       # Kuyruktaki ilk eleman FIFO prensibine göre çıkarılıyor.\n",
    "\n",
    "print('Öğeyi Çıkardıktan Sonra Kuyruk: ', queue)  # Kuyruğun son hali.\n",
    "print('Kuyruktaki Güncel Öğe Sayısı: ', len(queue))"
   ]
  },
  {
   "cell_type": "code",
   "execution_count": 23,
   "id": "9020a22a-663f-471a-8da2-fdb71d0bcb0c",
   "metadata": {},
   "outputs": [
    {
     "name": "stdout",
     "output_type": "stream",
     "text": [
      "[1, 2, 3, 4, 5]\n",
      "Öğeyi Çıkardıktan Sonra Yığın: \n",
      "[2, 3, 4, 5]\n"
     ]
    }
   ],
   "source": [
    "### Pythonda Kuyruk İşlemi v2. (Class ile)###\n",
    "\n",
    "class Queue:\n",
    "\n",
    "    def __init__(self):            # Adım 1: Kuyruk oluşturmak.\n",
    "        self.queue = []\n",
    "\n",
    "\n",
    "    def enqueue(self, item):       # Adım 2: Kuyruğa öğe eklemek.\n",
    "        self.queue.append(item)\n",
    "\n",
    "\n",
    "    def dequeue(self):             # Adım 3: Kuyruktan öğe çıkarmak.\n",
    "        if len(self.queue) < 1:\n",
    "            return None\n",
    "        return self.queue.pop(0)\n",
    "\n",
    "  \n",
    "    def display(self):             # Adım 4: Kuyruğun görüntülenmesi.\n",
    "        print(self.queue)\n",
    "\n",
    "        \n",
    "    def size(self):                # Adım 5: Kuyruğun boyutunun görüntülenmesi.\n",
    "        return len(self.queue)\n",
    "    \n",
    "\n",
    "q = Queue()\n",
    "# Ekleme.\n",
    "q.enqueue(1)\n",
    "q.enqueue(2)\n",
    "q.enqueue(3)\n",
    "q.enqueue(4)\n",
    "q.enqueue(5)\n",
    "\n",
    "q.display()\n",
    "# Çıkarma.\n",
    "q.dequeue()\n",
    "\n",
    "print(\"Öğeyi Çıkardıktan Sonra Yığın: \")\n",
    "q.display()"
   ]
  }
 ],
 "metadata": {
  "kernelspec": {
   "display_name": "Python [conda env:datascience] *",
   "language": "python",
   "name": "conda-env-datascience-py"
  },
  "language_info": {
   "codemirror_mode": {
    "name": "ipython",
    "version": 3
   },
   "file_extension": ".py",
   "mimetype": "text/x-python",
   "name": "python",
   "nbconvert_exporter": "python",
   "pygments_lexer": "ipython3",
   "version": "3.8.13"
  }
 },
 "nbformat": 4,
 "nbformat_minor": 5
}
